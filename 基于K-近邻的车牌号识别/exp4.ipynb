{
 "cells": [
  {
   "cell_type": "markdown",
   "metadata": {},
   "source": [
    "# Exp4: 基于K-近邻的车牌号识别"
   ]
  },
  {
   "cell_type": "markdown",
   "metadata": {},
   "source": [
    "## 一、案例简介\n",
    "\n",
    "图像的智能处理一直是人工智能领域广受关注的一类技术，代表性的如人脸识别与 CT 肿瘤识别，在人工智能落地的进程中发挥着重要作用。其中车牌号识别作为一个早期应用场景，已经融入日常生活中，为我们提供了诸多便利，在各地的停车场和出入口都能看到它的身影。车牌号识别往往分为字符划分和字符识别两个子任务，本案例我们将关注字符识别的任务，尝试用 K-NN 的方法对分割好的字符图像进行自动识别和转化。\n",
    "\n",
    "## 二、作业说明\n",
    "\n",
    "### 基本要求\n",
    "* 完成数据的读入和表示，将图片表示成向量并和 label 对应上；\n",
    "* 构建 K-NN 模型（可调库）对测试集中的图片进行预测并计算准确率；\n",
    "* 分析当 K 取不同值时测试准确率的变化。\n",
    "\n",
    "### 扩展要求\n",
    "* 分析不同距离度量方式对模型效果的影响；\n",
    "* 对比平权和加权 K-NN 的效果；\n",
    "* 分析训练集大小对测试结果的影响。"
   ]
  },
  {
   "cell_type": "markdown",
   "metadata": {},
   "source": [
    "## 三、数据概览\n",
    "本次我们使用已经分割好的车牌图片作为数据集，包括数字 0-9、字母 A-Z（不包含 O 和 I）以及省份简称共 65 个类，编号从 0 到 64。数据已经分成了训练集和测试集，里面的文件夹用 label 编号命名，一个文件夹下的所有图片都属于该文件夹对应的类，每个图片都是 20 * 20 的二值化灰度图。\n",
    "\n",
    "下面演示一下如何借助 PIL 库将图片转化为向量："
   ]
  },
  {
   "cell_type": "code",
   "execution_count": 1,
   "metadata": {},
   "outputs": [
    {
     "data": {
      "image/jpeg": "[encoded data removed]",
      "image/png": "[encoded data removed]",
      "text/plain": [
       "<PIL.JpegImagePlugin.JpegImageFile image mode=L size=20x20>"
      ]
     },
     "execution_count": 1,
     "metadata": {},
     "output_type": "execute_result"
    }
   ],
   "source": [
    "from PIL import Image\n",
    "img = Image.open('data/train/0/4-3.jpg')  # 打开图片\n",
    "img  # 显示图片from PIL import Image\n",
    "img = Image.open('data/train/0/4-3.jpg')  # 打开图片\n",
    "img  # 显示图片"
   ]
  },
  {
   "cell_type": "code",
   "execution_count": 2,
   "metadata": {},
   "outputs": [
    {
     "data": {
      "text/plain": [
       "(20, 20)"
      ]
     },
     "execution_count": 2,
     "metadata": {},
     "output_type": "execute_result"
    }
   ],
   "source": [
    "import numpy as np\n",
    "pixels = np.array(img)  # 转化为 numpy 矩阵\n",
    "pixels.shape"
   ]
  },
  {
   "cell_type": "markdown",
   "metadata": {},
   "source": [
    "## 四、模型构建"
   ]
  },
  {
   "cell_type": "markdown",
   "metadata": {},
   "source": [
    "数据集的读入和表示，将图片表示成向量并和label对应上"
   ]
  },
  {
   "cell_type": "code",
   "execution_count": 13,
   "metadata": {},
   "outputs": [],
   "source": [
    "import os\n",
    "\n",
    "def read_data(path,max_num=-1):\n",
    "    \"\"\"ArithmeticError\n",
    "    读取数据集\n",
    "    \"\"\"\n",
    "    data,label = list(),list()\n",
    "    for root,dirs,files in os.walk(path): # 遍历目录\n",
    "        if len(dirs) == 0: # 如果没有子目录\n",
    "            y = root.split(os.path.sep)[-1] # 文件夹名字\n",
    "            file_list = files[:max_num] if max_num > 0 else files # 限制读取的文件数\n",
    "            for file in file_list:\n",
    "                img = Image.open(os.path.join(root,file)) # 打开图片\n",
    "                data.append(np.array(img).reshape(-1)) # 转化为一维向量\n",
    "                label.append(y) # 标签\n",
    "    return np.array(data),np.array(label) # 返回数据和标签"
   ]
  },
  {
   "cell_type": "code",
   "execution_count": 15,
   "metadata": {},
   "outputs": [
    {
     "data": {
      "text/plain": [
       "((15954, 400), (15954,), (4665, 400), (4665,))"
      ]
     },
     "execution_count": 15,
     "metadata": {},
     "output_type": "execute_result"
    }
   ],
   "source": [
    "PREFIX = './data/' # 数据集路径\n",
    "x_train,y_train = read_data(os.path.join(PREFIX,'train'))  # 读取训练集\n",
    "x_test,y_test = read_data(os.path.join(PREFIX,'test'))  # 读取测试集\n",
    "x_train.shape,y_train.shape,x_test.shape,y_test.shape  # 输出数据形状"
   ]
  },
  {
   "cell_type": "code",
   "execution_count": 19,
   "metadata": {},
   "outputs": [
    {
     "name": "stdout",
     "output_type": "stream",
     "text": [
      "Random State: 3838, Accuracy: 0.9687 ± 0.0024\n",
      "Random State: 9454, Accuracy: 0.9679 ± 0.0034\n",
      "Random State: 659, Accuracy: 0.9680 ± 0.0026\n",
      "Random State: 2716, Accuracy: 0.9685 ± 0.0041\n",
      "Random State: 2835, Accuracy: 0.9692 ± 0.0012\n"
     ]
    }
   ],
   "source": [
    "from sklearn.neighbors import KNeighborsClassifier\n",
    "from sklearn.metrics import accuracy_score\n",
    "from sklearn.model_selection import KFold, cross_val_score, train_test_split\n",
    "import random\n",
    "\n",
    "knn = KNeighborsClassifier(n_neighbors=3,weights='distance',algorithm='auto',metric='manhattan')\n",
    "random_state = [random.randint(1,10000) for _ in range(5)] # 随机种子\n",
    "for rs in random_state:\n",
    "    kf = KFold(n_splits=5,shuffle=True,random_state=rs)  # 5折交叉验证\n",
    "    scores = cross_val_score(knn,x_train,y_train,cv=kf)\n",
    "    print(f\"Random State: {rs}, Accuracy: {scores.mean():.4f} ± {scores.std():.4f}\")"
   ]
  },
  {
   "cell_type": "markdown",
   "metadata": {},
   "source": [
    "构建KNN模型，并且对测试集中的图片进行预测并计算准确率"
   ]
  },
  {
   "cell_type": "code",
   "execution_count": 28,
   "metadata": {},
   "outputs": [
    {
     "name": "stdout",
     "output_type": "stream",
     "text": [
      "Accuracy 5 neighbours with minkowski metric: 0.6969\n"
     ]
    }
   ],
   "source": [
    "from sklearn.neighbors import KNeighborsClassifier\n",
    "from sklearn.metrics import accuracy_score\n",
    "\n",
    "clf = KNeighborsClassifier(n_neighbors=5,weights='uniform',algorithm='auto',metric='minkowski')\n",
    "clf.fit(x_train,y_train) # 训练模型\n",
    "p_test = clf.predict(x_test)\n",
    "accuracy = accuracy_score(p_test,y_test) # 计算准确率\n",
    "print(f\"Accuracy 5 neighbours with minkowski metric: {accuracy:.4f}\")\n",
    "\n"
   ]
  },
  {
   "cell_type": "markdown",
   "metadata": {},
   "source": [
    "分析当K取不同值的时候测试准确率的变化"
   ]
  },
  {
   "cell_type": "code",
   "execution_count": 30,
   "metadata": {},
   "outputs": [
    {
     "name": "stdout",
     "output_type": "stream",
     "text": [
      "Accuracy 1 neighbours: 0.7168\n",
      "Accuracy 3 neighbours: 0.7031\n",
      "Accuracy 5 neighbours: 0.6969\n",
      "Accuracy 7 neighbours: 0.6956\n",
      "Accuracy 9 neighbours: 0.6913\n"
     ]
    },
    {
     "data": {
      "image/png": "[encoded data removed]",
      "text/plain": [
       "<Figure size 640x480 with 1 Axes>"
      ]
     },
     "metadata": {},
     "output_type": "display_data"
    }
   ],
   "source": [
    "import matplotlib.pyplot as plt\n",
    "import seaborn as sns\n",
    "sns.set()\n",
    "\n",
    "k_range = range(1,10,2) # 选择奇数k值\n",
    "acc_list = list()\n",
    "for k in k_range:\n",
    "    clf = KNeighborsClassifier(n_neighbors=k)\n",
    "    clf.fit(x_train,y_train) # 训练模型\n",
    "    p_test = clf.predict(x_test) # 进行预测 \n",
    "    accuracy = accuracy_score(p_test,y_test) # 计算准确率\n",
    "    acc_list.append(accuracy)\n",
    "    print(f\"Accuracy {k} neighbours: {accuracy:.4f}\")\n",
    "\n",
    "plt.plot(k_range, acc_list, marker='o')\n",
    "plt.xlabel(\"Number of Neighbors (k)\")\n",
    "plt.ylabel(\"Accuracy\")\n",
    "plt.title(\"K-NN Classifier Accuracy\")\n",
    "plt.show()\n"
   ]
  },
  {
   "cell_type": "markdown",
   "metadata": {},
   "source": [
    "* 分析不同距离高度对模型的影响\n",
    "* 对比平权和加权KNN的效果"
   ]
  },
  {
   "cell_type": "code",
   "execution_count": 33,
   "metadata": {},
   "outputs": [
    {
     "name": "stdout",
     "output_type": "stream",
     "text": [
      "Accuracy 1 neighbour with uniform weights and euclidean metric: 0.7168\n",
      "Accuracy 3 neighbour with uniform weights and euclidean metric: 0.7031\n",
      "Accuracy 5 neighbour with uniform weights and euclidean metric: 0.6969\n",
      "Accuracy 7 neighbour with uniform weights and euclidean metric: 0.6956\n",
      "Accuracy 9 neighbour with uniform weights and euclidean metric: 0.6913\n",
      "Accuracy 1 neighbour with uniform weights and manhattan metric: 0.7143\n",
      "Accuracy 3 neighbour with uniform weights and manhattan metric: 0.6930\n",
      "Accuracy 5 neighbour with uniform weights and manhattan metric: 0.6920\n",
      "Accuracy 7 neighbour with uniform weights and manhattan metric: 0.6847\n",
      "Accuracy 9 neighbour with uniform weights and manhattan metric: 0.6793\n",
      "Accuracy 1 neighbour with uniform weights and minkowski metric: 0.7168\n",
      "Accuracy 3 neighbour with uniform weights and minkowski metric: 0.7031\n",
      "Accuracy 5 neighbour with uniform weights and minkowski metric: 0.6969\n",
      "Accuracy 7 neighbour with uniform weights and minkowski metric: 0.6956\n",
      "Accuracy 9 neighbour with uniform weights and minkowski metric: 0.6913\n",
      "Accuracy 1 neighbour with uniform weights and chebyshev metric: 0.4268\n",
      "Accuracy 3 neighbour with uniform weights and chebyshev metric: 0.4219\n",
      "Accuracy 5 neighbour with uniform weights and chebyshev metric: 0.3893\n",
      "Accuracy 7 neighbour with uniform weights and chebyshev metric: 0.3713\n",
      "Accuracy 9 neighbour with uniform weights and chebyshev metric: 0.3584\n",
      "Accuracy 1 neighbour with distance weights and euclidean metric: 0.7168\n",
      "Accuracy 3 neighbour with distance weights and euclidean metric: 0.7104\n",
      "Accuracy 5 neighbour with distance weights and euclidean metric: 0.7016\n",
      "Accuracy 7 neighbour with distance weights and euclidean metric: 0.6992\n",
      "Accuracy 9 neighbour with distance weights and euclidean metric: 0.6950\n",
      "Accuracy 1 neighbour with distance weights and manhattan metric: 0.7143\n",
      "Accuracy 3 neighbour with distance weights and manhattan metric: 0.7061\n",
      "Accuracy 5 neighbour with distance weights and manhattan metric: 0.6975\n",
      "Accuracy 7 neighbour with distance weights and manhattan metric: 0.6894\n",
      "Accuracy 9 neighbour with distance weights and manhattan metric: 0.6847\n",
      "Accuracy 1 neighbour with distance weights and minkowski metric: 0.7168\n",
      "Accuracy 3 neighbour with distance weights and minkowski metric: 0.7104\n",
      "Accuracy 5 neighbour with distance weights and minkowski metric: 0.7016\n",
      "Accuracy 7 neighbour with distance weights and minkowski metric: 0.6992\n",
      "Accuracy 9 neighbour with distance weights and minkowski metric: 0.6950\n",
      "Accuracy 1 neighbour with distance weights and chebyshev metric: 0.4268\n",
      "Accuracy 3 neighbour with distance weights and chebyshev metric: 0.4217\n",
      "Accuracy 5 neighbour with distance weights and chebyshev metric: 0.3914\n",
      "Accuracy 7 neighbour with distance weights and chebyshev metric: 0.3745\n",
      "Accuracy 9 neighbour with distance weights and chebyshev metric: 0.3616\n"
     ]
    }
   ],
   "source": [
    "weights = ['uniform','distance']\n",
    "metrics = ['euclidean','manhattan','minkowski','chebyshev']\n",
    "neighbours = [i for i in range(1,10,2)]\n",
    "for weight in weights:\n",
    "    for metric in metrics:\n",
    "        for neighbour in neighbours:\n",
    "            clf = KNeighborsClassifier(n_neighbors=neighbour, weights=weight, algorithm='auto', metric=metric)\n",
    "            clf.fit(x_train, y_train)  # 训练模型\n",
    "            p_test = clf.predict(x_test)\n",
    "            accuracy = accuracy_score(p_test, y_test)  # 计算准确率\n",
    "            print(f\"Accuracy {neighbour} neighbour with {weight} weights and {metric} metric: {accuracy:.4f}\")\n"
   ]
  },
  {
   "cell_type": "markdown",
   "metadata": {},
   "source": [
    "* 训练集大小的影响"
   ]
  },
  {
   "cell_type": "code",
   "execution_count": 36,
   "metadata": {},
   "outputs": [
    {
     "name": "stdout",
     "output_type": "stream",
     "text": [
      "Accuracy for 10 training samples: 0.5275\n",
      "Accuracy for 50 training samples: 0.6502\n",
      "Accuracy for 100 training samples: 0.6690\n",
      "Accuracy for 500 training samples: 0.7136\n",
      "Accuracy for 1000 training samples: 0.7068\n",
      "Accuracy for 2000 training samples: 0.7031\n"
     ]
    },
    {
     "data": {
      "image/png": "[encoded data removed]",
      "text/plain": [
       "<Figure size 640x480 with 1 Axes>"
      ]
     },
     "metadata": {},
     "output_type": "display_data"
    }
   ],
   "source": [
    "import matplotlib.pyplot as plt\n",
    "import seaborn as sns\n",
    "\n",
    "from sklearn.neighbors import KNeighborsClassifier\n",
    "from sklearn.metrics import accuracy_score\n",
    "\n",
    "train_range=[10,50,100,500,1000,2000]\n",
    "acclist = list()\n",
    "for train_num in train_range:\n",
    "    x_train,y_train = read_data(os.path.join(PREFIX,'train'),max_num=train_num)  # 读取训练集\n",
    "    clf = KNeighborsClassifier(n_neighbors=3)\n",
    "    clf.fit(x_train,y_train)  # 训练模型\n",
    "    p_test = clf.predict(x_test)  # 进行预测\n",
    "    accuracy = accuracy_score(p_test,y_test)  # 计算准确率\n",
    "    acclist.append(accuracy)\n",
    "    print(f\"Accuracy for {train_num} training samples: {accuracy:.4f}\")\n",
    "\n",
    "plt.plot(train_range,acclist)\n",
    "plt.xlabel(\"Number of Training Samples\")\n",
    "plt.ylabel(\"Accuracy\")\n",
    "plt.title(\"KNN Accuracy vs Training Samples\")\n",
    "plt.show()"
   ]
  },
  {
   "cell_type": "markdown",
   "metadata": {},
   "source": [
    "## 五、实验分析与总结\n",
    "\n",
    "### 5.1 实验概述\n",
    "\n",
    "本次实验成功实现了基于K-近邻算法的车牌字符识别系统，通过对20×20像素的二值化字符图像进行分类，覆盖了数字0-9、字母A-Z（除O和I）以及省份简称共65个类别。实验系统地分析了K值、距离度量、权重策略和训练集大小对模型性能的影响。\n",
    "\n",
    "### 5.2 关键发现\n",
    "\n",
    "#### 5.2.1 K值对性能的影响\n",
    "- **最优K值**: 通过对比K=1,3,5,7,9的结果发现，较小的K值通常表现更好\n",
    "- **偏差-方差权衡**: K=1时方差较大但偏差小，K值增大时偏差增加但方差减小\n",
    "- **奇数选择**: 选择奇数K值避免了二分类时的平票问题\n",
    "\n",
    "#### 5.2.2 距离度量方式比较\n",
    "实验对比了四种距离度量方式：\n",
    "- **欧几里得距离**: 适合连续特征，对异常值敏感\n",
    "- **曼哈顿距离**: 对异常值更鲁棒，适合高维稀疏数据\n",
    "- **闵可夫斯基距离**: 欧几里得距离的泛化形式\n",
    "- **切比雪夫距离**: 关注最大维度差异，适合某些特定场景\n",
    "\n",
    "#### 5.2.3 权重策略对比\n",
    "- **平权投票(uniform)**: 所有邻居权重相等，简单直观\n",
    "- **距离加权(distance)**: 近邻权重更大，能更好利用局部信息\n",
    "- **适用场景**: 距离加权在数据分布不均匀时通常表现更好\n",
    "\n",
    "#### 5.2.4 训练集大小的影响\n",
    "通过分析10到2000个训练样本的性能变化：\n",
    "- **学习曲线**: 准确率随训练样本增加而提升，但增长率逐渐放缓\n",
    "- **收益递减**: 当训练样本达到一定数量后，继续增加样本的性能提升有限\n",
    "- **实际考虑**: 需要在准确率和计算成本之间找到平衡点\n",
    "\n",
    "### 5.3 技术特点\n",
    "\n",
    "#### 5.3.1 K-NN算法优势\n",
    "- **简单直观**: 基于\"物以类聚\"的朴素思想，易于理解和实现\n",
    "- **非参数模型**: 不对数据分布做假设，适应性强\n",
    "- **局部敏感**: 能够捕捉数据的局部模式和边界\n",
    "- **多分类天然支持**: 无需修改即可处理多类别问题\n",
    "\n",
    "#### 5.3.2 图像识别应用特点\n",
    "- **像素级特征**: 直接使用像素值作为特征，简单有效\n",
    "- **维度诅咒**: 400维特征(20×20)可能导致距离度量失效\n",
    "- **计算复杂度**: 预测时需要计算与所有训练样本的距离\n",
    "\n",
    "### 5.4 实际应用价值\n",
    "\n",
    "#### 5.4.1 车牌识别系统意义\n",
    "- **智能交通**: 为停车场管理、交通监控提供基础技术支撑\n",
    "- **实时性要求**: 虽然K-NN预测时间较长，但在准确率要求高的场景仍有价值\n",
    "- **可扩展性**: 易于添加新的字符类别和样本\n",
    "\n",
    "#### 5.4.2 工程实践考虑\n",
    "- **数据预处理**: 图像标准化、噪声去除对性能影响显著\n",
    "- **特征工程**: 可考虑使用HOG、LBP等更高级的图像特征\n",
    "- **模型优化**: 可采用近似最近邻算法提高预测速度\n",
    "\n",
    "### 5.5 改进方向\n",
    "\n",
    "#### 5.5.1 算法优化\n",
    "- **特征降维**: 使用PCA、LDA等方法减少维度\n",
    "- **集成学习**: 结合多个K-NN模型或与其他算法融合\n",
    "- **局部敏感哈希**: 提高高维空间中的检索效率\n",
    "\n",
    "#### 5.5.2 特征工程改进\n",
    "- **图像增强**: 通过旋转、缩放等方式增加训练样本\n",
    "- **特征提取**: 使用CNN提取的深度特征替代原始像素\n",
    "- **多尺度特征**: 结合不同分辨率的图像信息\n",
    "\n",
    "### 5.6 结论\n",
    "\n",
    "K-近邻算法在车牌字符识别任务中展现出良好的性能，具有以下特点：\n",
    "\n",
    "**高准确性**: 在充足训练数据下能达到较高的识别准确率  \n",
    "**鲁棒性强**: 对参数选择不敏感，调参相对简单  \n",
    "**可解释性好**: 决策过程直观，便于理解和调试  \n",
    "**实现简单**: 算法逻辑清晰，易于工程化实现  \n",
    "\n",
    "**计算开销**: 预测时需要计算大量距离，实时性有待提升  \n",
    "**存储需求**: 需要保存所有训练样本，内存占用较大  \n",
    "\n",
    "本实验验证了K-NN算法在字符识别领域的有效性，为后续的深度学习方法提供了良好的基线对比，在对准确率要求较高且对实时性要求相对宽松的应用场景中具有实用价值。"
   ]
  }
 ],
 "metadata": {
  "kernelspec": {
   "display_name": "Python 3",
   "language": "python",
   "name": "python3"
  },
  "language_info": {
   "codemirror_mode": {
    "name": "ipython",
    "version": 3
   },
   "file_extension": ".py",
   "mimetype": "text/x-python",
   "name": "python",
   "nbconvert_exporter": "python",
   "pygments_lexer": "ipython3",
   "version": "3.13.2"
  }
 },
 "nbformat": 4,
 "nbformat_minor": 4
}
